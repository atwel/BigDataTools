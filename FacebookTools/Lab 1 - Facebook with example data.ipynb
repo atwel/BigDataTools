{
 "metadata": {
  "name": ""
 },
 "nbformat": 3,
 "nbformat_minor": 0,
 "worksheets": [
  {
   "cells": [
    {
     "cell_type": "markdown",
     "metadata": {},
     "source": [
      "<br>\n",
      "<p><b><font size=6>Lab 1 - Facebook with example data</font></b></p>\n",
      "<br>\n",
      "<p>This notebook guides you through process of loading real and anonymized Facebook data. You should have already down loaded the data files, named #_friend_data.csv and #_general_data.csv (where # is some number between 1 and 5), and placed them in the FacebookTools folder. </p>"
     ]
    },
    {
     "cell_type": "markdown",
     "metadata": {},
     "source": [
      "<p><b><font size=4>Using this Notebook</font></b></p>\n",
      "<p>This notebook is both a set of instructions and the platform you will use for the analysis. It runs actual snippets of code and returns results. All the code you need to analyze your data is contained in the Python module Facebook_Lab.py which is already in the FacebookTools folder. To begin to use this package, we must first import it using the import command in the next line. To execute the code, click into the cell and hit [shift] and [return/enter] simultaneously.</p>\n",
      "<p> Often there are snippets of code that are commented out with a hashtag (#) in front of them. Removing the hashtag and any extra spaces will make that code live as well. This is a convenient way to experiment with different options without having delete and rewrite lines of code all the time."
     ]
    },
    {
     "cell_type": "code",
     "collapsed": false,
     "input": [
      "import Facebook_Lab as fb"
     ],
     "language": "python",
     "metadata": {},
     "outputs": []
    },
    {
     "cell_type": "markdown",
     "metadata": {},
     "source": [
      "<p>While the command is running, the left hand side of the cell will show <b>In [*]:</b> and a message at the top right will say <b>kernel busy</b>. While the command is executing, you are unable to do anything else so please be patient. Some commands for gathering and sorting data\n",
      "are nontrivial so waiting is to be expected.</p><br><br>\n"
     ]
    },
    {
     "cell_type": "markdown",
     "metadata": {},
     "source": [
      "\n",
      "<p><b><font size=5>Loading the Facebook data</font></b></p>\n",
      "\n",
      "<p>All you need to get the data loaded is to replace both instances of the number in the parentheses with the number of the network you would like to look at (1 through 5) and run the code. The first name creates a `graph` object that is a fairly complex collection of data fields. We load the network data in with the second line.</p><br><br>\n"
     ]
    },
    {
     "cell_type": "code",
     "collapsed": false,
     "input": [
      "graph = fb.FBgraph(\"1\")\n",
      "graph.load_data(\"1\")"
     ],
     "language": "python",
     "metadata": {},
     "outputs": []
    },
    {
     "cell_type": "markdown",
     "metadata": {},
     "source": [
      "<br>\n",
      "<p><font size=4>Viewing the network</font></p>\n",
      "<p>Now that the data are loaded, we can take a look at the network with the `draw_network( )` command.</p>"
     ]
    },
    {
     "cell_type": "code",
     "collapsed": false,
     "input": [
      "graph.draw_network()"
     ],
     "language": "python",
     "metadata": {},
     "outputs": []
    },
    {
     "cell_type": "markdown",
     "metadata": {},
     "source": [
      "<p>This command produced a data file that can be seen by going to the FacebookTools folder and opening up the file named \"JSON_network.html\" This page contains a script that runs an algorithm that visualizes the data dynamically.\n",
      "\n",
      "<p>It might look like some nodes are farther away from you than others, but that is not the case because they all have a tie to you. Rather, an algorithm is moving everyone around to group people together. \n",
      "\n",
      "The algorithm is a physics simulator running in the browser window so that you can move nodes around and inspect elements.</p>\n",
      "<p> At first the nodes and links will be flying around space in a crazy way, but \"gravity\" and other forces will eventually get it to settle down. At that point you can do the following things:</p>\n",
      "\n",
      "- Click and drag to fix a node's position.\n",
      "- Hover over nodes and ties to see names and friend counts.\n",
      "- Double click on nodes to \"unstick\" them.\n",
      "- Stop/start the algorithm with the buttons in the top left corner.\n",
      "\n",
      "This plotter can render tie weights visually and color strong ties blue if you have defined those attributes for all nodes. To get them to render, set arguments `strong` or `weight` equal to true as shown in the commented out code below.\n",
      "\n",
      "The chief benefit of this graphing method is that it allows you to literally pull the network a part to better see structure. For large networks the display and responses will probably be choppy at the beginning but as the physical forces \"cool\" over time, the structure will stablize and graphics will catch up. You can also plot the network without you node using the argument `withme=False`. **This version of the network is much clearer and your processer might probably have an easier time with it. I highly recommend experimenting with this option.**\n"
     ]
    },
    {
     "cell_type": "code",
     "collapsed": false,
     "input": [
      "graph.draw_network(withme=False)\n",
      "#graph.draw_network(strong=True, weight=True)"
     ],
     "language": "python",
     "metadata": {},
     "outputs": []
    },
    {
     "cell_type": "markdown",
     "metadata": {},
     "source": [
      "<br>\n",
      "<br>\n",
      "<p><font size=4>Reduce the size of your network with a random sample</font></p>\n",
      "\n",
      "<p>If the network is quite large (+400) the rest of the commands below can take a long time to run. To get around this problem, you can discard some of your data using the `random_sample( )` function. You define the number of friends to keep as in the line of code below. You will get a *sample larger than population* error if you don't have as many friends as you asked to sample. This sampling doesn't save data automatically, so save using the `graph.save()` command two cells below to make sure you're using the same data here on out.</p>"
     ]
    },
    {
     "cell_type": "code",
     "collapsed": false,
     "input": [
      "graph.random_sample(300)"
     ],
     "language": "python",
     "metadata": {},
     "outputs": []
    },
    {
     "cell_type": "code",
     "collapsed": false,
     "input": [
      "graph.save()"
     ],
     "language": "python",
     "metadata": {},
     "outputs": []
    },
    {
     "cell_type": "markdown",
     "metadata": {},
     "source": [
      "<p></p>\n",
      "<p><font size=4>Using Network Measurements</font></p>\n",
      "We can use various metrics on the network.\n",
      "\n",
      "You can look at the clustering coefficients for nodes using the `clustering( )` command. The command takes a `group` argument that returns clustering coefficients for just the specified group from your social contexts list (the number, not the name). Without the group argument it returns the whole network.\n",
      "\n",
      "As you'll notice, the results are the clustering coefficients for each individual. To get the average, pass the results to the `graph.get_average_clustering()` command. The easiest way to do this is to nest the two commands as show in the third command below.\n"
     ]
    },
    {
     "cell_type": "code",
     "collapsed": false,
     "input": [
      "graph.clustering()     #whole network\n",
      "#graph.clustering(1)   #just group one\n",
      "#graph.get_average_clustering(graph.clustering())\n"
     ],
     "language": "python",
     "metadata": {},
     "outputs": []
    },
    {
     "cell_type": "markdown",
     "metadata": {},
     "source": [
      "Below are several other basic measures. Each accepts a `withme` argument that removes the user's node to reveal more of the network structure when the argument is set to `false`. The commented-out second line in each cell shows that alternate code."
     ]
    },
    {
     "cell_type": "code",
     "collapsed": false,
     "input": [
      "graph.count_components() #the number of components in the graph\n",
      "#graph.count_components(withme=False )"
     ],
     "language": "python",
     "metadata": {},
     "outputs": []
    },
    {
     "cell_type": "code",
     "collapsed": false,
     "input": [
      "graph.diameter()\n",
      "#graph.diameter(withme=False)"
     ],
     "language": "python",
     "metadata": {},
     "outputs": []
    },
    {
     "cell_type": "code",
     "collapsed": false,
     "input": [
      "graph.degree_centrality()\n",
      "#graph.degree_centrality(withme=False)"
     ],
     "language": "python",
     "metadata": {},
     "outputs": []
    },
    {
     "cell_type": "code",
     "collapsed": false,
     "input": [
      "graph.closeness_centrality()\n",
      "#graph.closeness_centrality(withme=False)"
     ],
     "language": "python",
     "metadata": {},
     "outputs": []
    },
    {
     "cell_type": "code",
     "collapsed": false,
     "input": [
      "graph.betweenness_centrality()\n",
      "#graph.betweenness_centrality(withme=False)"
     ],
     "language": "python",
     "metadata": {},
     "outputs": []
    },
    {
     "cell_type": "code",
     "collapsed": false,
     "input": [
      "graph.eigenvector_centrality(iterations=500) # may fail with too few iterations but more iterations take more time.\n",
      "#graph.eigenvector_centrality(iterations=500,withme=False)"
     ],
     "language": "python",
     "metadata": {},
     "outputs": []
    },
    {
     "cell_type": "markdown",
     "metadata": {},
     "source": [
      "You can also find the clustering among nodes that share an attribute like gender. Associativity allows one to see the probability that alters in the network share the same value for a particular attribute."
     ]
    },
    {
     "cell_type": "code",
     "collapsed": false,
     "input": [],
     "language": "python",
     "metadata": {},
     "outputs": []
    },
    {
     "cell_type": "code",
     "collapsed": false,
     "input": [
      "d = graph.clustering_by_attribute(\"gender\") # any attribute you have coded for will work here"
     ],
     "language": "python",
     "metadata": {},
     "outputs": []
    },
    {
     "cell_type": "code",
     "collapsed": false,
     "input": [
      "d = graph.clustering_by_attribute_summary(\"gender\") #summary means average"
     ],
     "language": "python",
     "metadata": {},
     "outputs": []
    },
    {
     "cell_type": "code",
     "collapsed": false,
     "input": [],
     "language": "python",
     "metadata": {},
     "outputs": []
    }
   ],
   "metadata": {}
  }
 ]
}