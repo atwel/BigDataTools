{
 "metadata": {
  "name": ""
 },
 "nbformat": 3,
 "nbformat_minor": 0,
 "worksheets": [
  {
   "cells": [
    {
     "cell_type": "markdown",
     "metadata": {},
     "source": [
      "<br>\n",
      "<p><b><font size=6>Lab 1 - Facebook</font></b></p>\n",
      "<br>\n",
      "<p>This notebook guides you through process of gathering data from Facebook through the website's API (application programming interface) and augmenting those data with your own knowledge. Very little programming knowledge is necessary for you to use it but for those who want to experiment, it is easy to dig in deeper by opening the `Facebook_Lab.py` file (in the FacebookTools folder) in a text editor.</p>"
     ]
    },
    {
     "cell_type": "markdown",
     "metadata": {},
     "source": [
      "<p><b><font size=4>Using this Notebook</font></b></p>\n",
      "<p>This notebook is both a set of instructions and the platform you will use for the analysis. It runs actual snippets of code and returns results. All the code you need to analyze your data is contained in the Python module `Facebook_Lab.py` which is already in the FacebookTools folder. To begin to use this package, we must first import it using the import command in the next line. To execute the code, click into the cell and hit [shift] and [return/enter] simultaneously.</p>\n",
      "<p> Often there are snippets of code that are commented out with a hashtag (`#`) in front of them. Removing the hashtag and any extra spaces will make that code live as well. This is a convenient way to experiment with different options without having delete and rewrite lines of code all the time."
     ]
    },
    {
     "cell_type": "code",
     "collapsed": false,
     "input": [
      "import Facebook_Lab as fb"
     ],
     "language": "python",
     "metadata": {},
     "outputs": [],
     "prompt_number": 2
    },
    {
     "cell_type": "markdown",
     "metadata": {},
     "source": [
      "<p>While the command is running, the left hand side of the cell will show <b>In [*]:</b> and a message at the top right will say <b>kernel busy</b>. While the command is executing, you are unable to do anything else so please be patient. Some commands for gathering and sorting data\n",
      "are nontrivial so waiting is to be expected.</p><br><br>\n"
     ]
    },
    {
     "cell_type": "markdown",
     "metadata": {},
     "source": [
      "\n",
      "<p><b><font size=5>Getting your Facebook data</font></b></p>\n",
      "\n",
      "<p>For this lab you have the possibility of getting your own data or using a real, anonymized network that is provided. The appropriate commands for use that network are down at the very bottom of this notebook. The instructions for using your own data begin with <b>Step 1</b> below. </p><br><br>\n",
      "\n",
      "<p><font size=4>Step 1: Creating a graph object</font></p>\n",
      "<p>The first step is to create a Facebook graph object and name it. By executing the command `new FB_graph( )` you create object but we need to assign it to a variable name (a handle of sorts) so that we can reference it later. The code snippet below assigns it to `graph` but in case you want multiple networks, you'd need to use a new name (and use it everywhere `graph` appears in this notebook).</p>\n",
      "\n",
      "<p>If you do create more than one network, you'll need to supply a file name `parameter` to the `fb.FBgraph( )` command so that the data is written to different filenames. The default file name is `\"data1\"` so you can use any name other than that. Use a command like `fb.FBgraph(name=\"practice_graph\")` to do this.</p>\n",
      "\n",
      "<p>You can also load saved data from a previous session. Just use the third command below with the name argument equal to the name you provided when you first saved it."
     ]
    },
    {
     "cell_type": "code",
     "collapsed": false,
     "input": [
      "graph = fb.FBgraph()\n",
      "# graph = fb.FBgraph(name=\"jp_graph\")\n",
      "# graph.load_data(name=\"your_name\")"
     ],
     "language": "python",
     "metadata": {},
     "outputs": [],
     "prompt_number": 3
    },
    {
     "cell_type": "markdown",
     "metadata": {},
     "source": [
      "<br>\n",
      "<p><font size=4>Step 2: Get connected to Facebook using your token</font></p>\n",
      "\n",
      "<p>To get started with your data, you need to get an \"access token\" from Facebook. To do so, follow <a href=\"http://developers.facebook.com/tools/explorer\"><b>this link</b></a>.</p>\n",
      "\n",
      "\n",
      "<p>On that page, click on the <i>Get Access Token</i> button in the upper right hand corner, approve the token and then copy it out of the box it appears in. More detailed instructions with pictures is available on the <a href=\"http://www-personal.umich.edu/~atwell/facebook_tokens.html\"> Lab website</a>\n",
      "\n",
      "<p>Once you have a token, you'll need to run the <i>get_access( )</i> command to enter it. Don't put the key in the parentheses before running it. You'll enter that shortly.</p>"
     ]
    },
    {
     "cell_type": "code",
     "collapsed": false,
     "input": [
      "graph.get_access()"
     ],
     "language": "python",
     "metadata": {},
     "outputs": [
      {
       "output_type": "stream",
       "stream": "stdout",
       "text": [
        "\n",
        "\n",
        "Hi Jon Sleepswell! Welcome to the Facebook Lab\n",
        "\n"
       ]
      }
     ],
     "prompt_number": 4
    },
    {
     "cell_type": "markdown",
     "metadata": {},
     "source": [
      "<p>If you got the Welcome to the Facebook Lab message, you now have a direct connection to Facebook's servers that we can use to get all data about you and a limited subset of data about your friends. Let's go ahead and start getting those data."
     ]
    },
    {
     "cell_type": "markdown",
     "metadata": {},
     "source": [
      "<br>\n",
      "<p><font size=4>Step 3: Get Facebook data about yourself</font></p>\n",
      "\n",
      "<p>Let's start with your information by using the <i>get_me()</i> command. The output of this code is a Python data structure called a dictionary that contains all of the personal information you <i>currently</i> have entered on your homepage. (My guess is that FB keeps any information you've <i>ever</i> entered). What is shown is only some of your data but it is currently in the highly- structured format that isn't immediately helpful. We need to fix that next.</p>"
     ]
    },
    {
     "cell_type": "code",
     "collapsed": false,
     "input": [
      "graph.get_me()"
     ],
     "language": "python",
     "metadata": {},
     "outputs": [
      {
       "output_type": "stream",
       "stream": "stdout",
       "text": [
        "{u'first_name': u'Jon', u'last_name': u'Sleepswell', u'verified': True, u'name': u'Jon Sleepswell', u'locale': u'en_US', u'gender': u'male', u'updated_time': u'2014-02-19T22:47:24+0000', u'link': u'http://www.facebook.com/8603091', u'location': {u'id': u'105479049486624', u'name': u'Ann Arbor, Michigan'}, u'hometown': {u'id': u'111780418839173', u'name': u'Green Bay, Wisconsin'}, u'timezone': -5, u'education': [{u'school': {u'id': u'108552442508725', u'name': u'De Pere High'}, u'type': u'High School'}, {u'school': {u'id': u'55528788113', u'name': u'University of Wisconsin-Madison'}, u'type': u'College'}, {u'school': {u'id': u'109551572397323', u'name': u'University of Michigan'}, u'type': u'Graduate School'}], u'id': u'8603091'}\n",
        "(u'first_name', u'Jon')\n",
        "(u'last_name', u'Sleepswell')\n",
        "(u'verified', True)\n",
        "(u'name', u'Jon Sleepswell')\n",
        "(u'locale', u'en_US')\n",
        "(u'gender', u'male')\n",
        "(u'updated_time', u'2014-02-19T22:47:24+0000')\n",
        "(u'link', u'http://www.facebook.com/8603091')\n",
        "(u'location', {u'id': u'105479049486624', u'name': u'Ann Arbor, Michigan'})\n",
        "(u'hometown', {u'id': u'111780418839173', u'name': u'Green Bay, Wisconsin'})\n",
        "(u'timezone', -5)\n",
        "(u'education', [{u'school': {u'id': u'108552442508725', u'name': u'De Pere High'}, u'type': u'High School'}, {u'school': {u'id': u'55528788113', u'name': u'University of Wisconsin-Madison'}, u'type': u'College'}, {u'school': {u'id': u'109551572397323', u'name': u'University of Michigan'}, u'type': u'Graduate School'}])\n",
        "(u'id', u'8603091')\n"
       ]
      }
     ],
     "prompt_number": 5
    },
    {
     "cell_type": "markdown",
     "metadata": {},
     "source": [
      "<br>\n",
      "<p><font size=4>Step 4: Clean up your data and create a database with it</font></p>\n",
      "\n",
      "<p>Because the dictionary we got above is messy and has lots of information we won't need, we need to clean it up before we create a database that can include both you and your friends. The <i>setup_db( )</i> command does that. It also will prompt you to list social contexts, the places you might know your Facebook friends from like schools, jobs, and places you've lived. This information might be handy later.</p>"
     ]
    },
    {
     "cell_type": "code",
     "collapsed": false,
     "input": [
      "graph.setup_db()"
     ],
     "language": "python",
     "metadata": {},
     "outputs": [
      {
       "output_type": "stream",
       "stream": "stdout",
       "text": [
        "\n",
        "Your Database is now set up with your information\n"
       ]
      }
     ],
     "prompt_number": 6
    },
    {
     "cell_type": "markdown",
     "metadata": {},
     "source": [
      "You can look at the database (with only your entry) with the following command. The rows labeled <i>known from</i>, <i>mutuals</i>, <i>tie strength</i>, <i>strong ties</i> and <i>undefined</i> are for data to be filled in later."
     ]
    },
    {
     "cell_type": "code",
     "collapsed": false,
     "input": [
      "graph.friend_db"
     ],
     "language": "python",
     "metadata": {},
     "outputs": [
      {
       "html": [
        "<div style=\"max-height:1000px;max-width:1500px;overflow:auto;\">\n",
        "<table border=\"1\" class=\"dataframe\">\n",
        "  <thead>\n",
        "    <tr style=\"text-align: right;\">\n",
        "      <th></th>\n",
        "      <th>8603091</th>\n",
        "    </tr>\n",
        "  </thead>\n",
        "  <tbody>\n",
        "    <tr>\n",
        "      <th>gender</th>\n",
        "      <td>           male</td>\n",
        "    </tr>\n",
        "    <tr>\n",
        "      <th>known from</th>\n",
        "      <td>             -1</td>\n",
        "    </tr>\n",
        "    <tr>\n",
        "      <th>mutuals</th>\n",
        "      <td>             -1</td>\n",
        "    </tr>\n",
        "    <tr>\n",
        "      <th>name</th>\n",
        "      <td> Jon Sleepswell</td>\n",
        "    </tr>\n",
        "    <tr>\n",
        "      <th>strong tie</th>\n",
        "      <td>             -1</td>\n",
        "    </tr>\n",
        "    <tr>\n",
        "      <th>tie strength</th>\n",
        "      <td>             -1</td>\n",
        "    </tr>\n",
        "    <tr>\n",
        "      <th>undefined1</th>\n",
        "      <td>            nan</td>\n",
        "    </tr>\n",
        "    <tr>\n",
        "      <th>undefined2</th>\n",
        "      <td>            nan</td>\n",
        "    </tr>\n",
        "    <tr>\n",
        "      <th>undefined3</th>\n",
        "      <td>            nan</td>\n",
        "    </tr>\n",
        "  </tbody>\n",
        "</table>\n",
        "</div>"
       ],
       "metadata": {},
       "output_type": "pyout",
       "prompt_number": 7,
       "text": [
        "                     8603091\n",
        "gender                  male\n",
        "known from                -1\n",
        "mutuals                   -1\n",
        "name          Jon Sleepswell\n",
        "strong tie                -1\n",
        "tie strength              -1\n",
        "undefined1               nan\n",
        "undefined2               nan\n",
        "undefined3               nan"
       ]
      }
     ],
     "prompt_number": 7
    },
    {
     "cell_type": "markdown",
     "metadata": {},
     "source": [
      "<p>You'll notice that the column name is an long integer. This is the unique ID number you have in Facebook's giant \"Graph\" that you can also see in the dictionary we got from the <i>get_me( )</i> command above. Every single object has one and we'll use this as ID number too.</p>\n",
      "<p>You can see your list of <i>social contexts</i> with the command <i>sd.contexts_list( )</i> and add to it using the <i>extend_contexts_list( )</i> command. Take a moment to think about key places in your life and then add them to your context list. You can also trim that list using the <i>trim_contexts_list( )</i> command.</p>"
     ]
    },
    {
     "cell_type": "code",
     "collapsed": false,
     "input": [
      "graph.contexts_list"
     ],
     "language": "python",
     "metadata": {},
     "outputs": []
    },
    {
     "cell_type": "code",
     "collapsed": false,
     "input": [
      "graph.extend_contexts_list()"
     ],
     "language": "python",
     "metadata": {},
     "outputs": []
    },
    {
     "cell_type": "code",
     "collapsed": false,
     "input": [
      "graph.contexts_list"
     ],
     "language": "python",
     "metadata": {},
     "outputs": []
    },
    {
     "cell_type": "code",
     "collapsed": false,
     "input": [
      "graph.trim_contexts_list()"
     ],
     "language": "python",
     "metadata": {},
     "outputs": []
    },
    {
     "cell_type": "code",
     "collapsed": false,
     "input": [
      "graph.contexts_list"
     ],
     "language": "python",
     "metadata": {},
     "outputs": []
    },
    {
     "cell_type": "markdown",
     "metadata": {},
     "source": [
      "<br>\n",
      "<p><font size=4>Step 5: Getting your friends</font></p>\n",
      "<p>The next step is to get a list of your friends. We do this with the <i>get_friends( )</i> function. Facebook does rate limiting for large amounts of requests (which this command has) so it might take a couple minutes.</p>"
     ]
    },
    {
     "cell_type": "code",
     "collapsed": false,
     "input": [
      "graph.facebook_link.get_connections(\"me\",\"friends\")"
     ],
     "language": "python",
     "metadata": {},
     "outputs": [
      {
       "output_type": "stream",
       "stream": "stdout",
       "text": [
        "{u'paging': {u'next': u'https://graph.facebook.com/v2.0/8603091/friends?access_token=CAACEdEose0cBADgb3WZCcFUvEIhLp3NHwIRTMczyMtwGPGcyK8PQwQxTA21RKHYSZAF5jAJkfABW6ZAWAr7i9GcABDw5Q7Eioybbc0usdslyHXCksA3RxZB9CEinHKQNoDQDpWuS6zNHoZAouXHQEZBNFNTSQaiQQ3Jm7VlfIji4ZAR5IypSby024tAOMOqImKPtuP5HbZBXigZC7AysvtHRnF8Wdd5LUsjYZD&limit=5000&offset=5000&__after_id=enc_AewKSZhX6x8BTX_fIgQWDyfVb9ugJcSrfhHrJubvz7intSQDf6uCkqTwR04VENvvphA'}, u'data': [{u'name': u'Rebecca No', u'id': u'827502'}, {u'name': u'Russell Funk', u'id': u'2901640'}, {u'name': u'Betsy Atwell', u'id': u'8630970'}, {u'name': u'Carolyn Atwell', u'id': u'10102196221785998'}, {u'name': u'Todd Schifeling', u'id': u'690210934'}, {u'name': u'Vicky Norton', u'id': u'1003884189'}, {u'name': u'Paul Leto Atwell', u'id': u'1595160648'}], u'summary': {u'total_count': 273}}\n"
       ]
      },
      {
       "metadata": {},
       "output_type": "pyout",
       "prompt_number": 8,
       "text": [
        "{u'data': [{u'id': u'827502', u'name': u'Rebecca No'},\n",
        "  {u'id': u'2901640', u'name': u'Russell Funk'},\n",
        "  {u'id': u'8630970', u'name': u'Betsy Atwell'},\n",
        "  {u'id': u'10102196221785998', u'name': u'Carolyn Atwell'},\n",
        "  {u'id': u'690210934', u'name': u'Todd Schifeling'},\n",
        "  {u'id': u'1003884189', u'name': u'Vicky Norton'},\n",
        "  {u'id': u'1595160648', u'name': u'Paul Leto Atwell'}],\n",
        " u'paging': {u'next': u'https://graph.facebook.com/v2.0/8603091/friends?access_token=CAACEdEose0cBADgb3WZCcFUvEIhLp3NHwIRTMczyMtwGPGcyK8PQwQxTA21RKHYSZAF5jAJkfABW6ZAWAr7i9GcABDw5Q7Eioybbc0usdslyHXCksA3RxZB9CEinHKQNoDQDpWuS6zNHoZAouXHQEZBNFNTSQaiQQ3Jm7VlfIji4ZAR5IypSby024tAOMOqImKPtuP5HbZBXigZC7AysvtHRnF8Wdd5LUsjYZD&limit=5000&offset=5000&__after_id=enc_AewKSZhX6x8BTX_fIgQWDyfVb9ugJcSrfhHrJubvz7intSQDf6uCkqTwR04VENvvphA'},\n",
        " u'summary': {u'total_count': 273}}"
       ]
      }
     ],
     "prompt_number": 8
    },
    {
     "cell_type": "code",
     "collapsed": false,
     "input": [
      "graph.get_friends()"
     ],
     "language": "python",
     "metadata": {},
     "outputs": []
    },
    {
     "cell_type": "markdown",
     "metadata": {},
     "source": [
      "Now when we look at the database again, we can see that it contains many people, too many to display in fact which why the returned results is information about the database instead of the thing itself."
     ]
    },
    {
     "cell_type": "code",
     "collapsed": false,
     "input": [
      "graph.friend_db"
     ],
     "language": "python",
     "metadata": {},
     "outputs": []
    },
    {
     "cell_type": "markdown",
     "metadata": {},
     "source": [
      "<p>We now have a list of your friends but not whether they are friends. To get those data, we now run <i>get_mutual_friends()</i>. This might take several minutes as well."
     ]
    },
    {
     "cell_type": "code",
     "collapsed": false,
     "input": [
      "graph.get_mutual_friends()"
     ],
     "language": "python",
     "metadata": {},
     "outputs": []
    },
    {
     "cell_type": "markdown",
     "metadata": {},
     "source": [
      "<br>\n",
      "<p><font size=4 color=\"red\"><b>Pause, save and sample</b></font></p>\n",
      "<p>At this point, we've gathered a lot of data so we should save it using the <i>save( )</i> command<p>"
     ]
    },
    {
     "cell_type": "code",
     "collapsed": false,
     "input": [
      "graph.save()"
     ],
     "language": "python",
     "metadata": {},
     "outputs": []
    },
    {
     "cell_type": "markdown",
     "metadata": {},
     "source": [
      "Now that it is saved, we can reload the data using the <i>graph.load_data( )</i> command. This command accepts a name parameter in case you've made multiple networks with different names. Then the command is <i>graph.load_data(file_name=\"<b>practice_graph</b>\")</i> or whatever name you used in the <i>new FB_graph(file_name=\"something\")</i> command in the very first step."
     ]
    },
    {
     "cell_type": "code",
     "collapsed": false,
     "input": [
      "graph.load_data()\n",
      "#graph.load_data(file_name=\"graph_name\")"
     ],
     "language": "python",
     "metadata": {},
     "outputs": []
    },
    {
     "cell_type": "markdown",
     "metadata": {},
     "source": [
      "<p><font size=4>Reduce the size of your network with a random sample</font></p>\n",
      "\n",
      "<p>If your network is quite large (+400) the rest of the commands below can take a long time to run. To get around this problem, you can discard some of your data using the *random_sample( )* function. You define the number of friends to keep as in the line of code below. You will get a *sample larger than population* error if you don't have as many friends as you asked to sample. This sampling doesn't save data automatically, so save again to make sure you're using the same data here on out.</p>"
     ]
    },
    {
     "cell_type": "code",
     "collapsed": false,
     "input": [
      "graph.random_sample(20)"
     ],
     "language": "python",
     "metadata": {},
     "outputs": []
    },
    {
     "cell_type": "markdown",
     "metadata": {},
     "source": [
      "<br>\n",
      "<p><font size=4>Step 6: Viewing the network</font></p>\n",
      "<p>Now that your friend data is loaded, we can take a look at your network with the <i>draw_network( )</i> command.</p>"
     ]
    },
    {
     "cell_type": "code",
     "collapsed": false,
     "input": [
      "graph.draw_network()"
     ],
     "language": "python",
     "metadata": {},
     "outputs": []
    },
    {
     "cell_type": "markdown",
     "metadata": {},
     "source": [
      "<p>This command produced a data file that can be seen by going to the Social Dynamics folder and opening up the file named \"JSON_network.html\" This page contains a script that runs an algorithm that visualizes the data dynamically.\n",
      "\n",
      "<p>It might look like some nodes are farther away from you than others, but that is not the case because they all have a tie to you. Rather, an algorithm is moving everyone around to group people together. \n",
      "\n",
      "The algorithm is a physics simulator running in the browser window so that you can move nodes around and inspect elements.</p>\n",
      "<p> At first the nodes and links will be flying around space in a crazy way, but \"gravity\" and other forces will eventually get it to settle down. At that point you can do the following things:</p>\n",
      "\n",
      "- Click and drag to fix a node's position.\n",
      "- Hover over nodes and ties to see names and friend counts.\n",
      "- Double click on nodes to \"unstick\" them.\n",
      "- Stop/start the algorithm with the buttons in the top left corner.\n",
      "\n",
      "This plotter can render tie weights visually and color strong ties blue if you have defined those attributes for all nodes. To get them to render, set arguments *strong* or *weight* equal to true as shown in the commented out code below.\n",
      "\n",
      "The chief benefit of this graphing method is that it allows you to literally pull the network a part to better see structure. For large networks the display and responses will probably be choppy at the beginning but as the physical forces \"cool\" over time, the structure will stablize and graphics will catch up. You can also plot the network without you node using the argument *withme=False*. **This version of the network is much clearer and your processer might probably have an easier time with it. I highly recommend experimenting with this option.**\n"
     ]
    },
    {
     "cell_type": "code",
     "collapsed": false,
     "input": [
      "#graph.draw_network()\n",
      "#graph.draw_network(strong=True, weight=True)\n",
      "graph.draw_network(withme=False)"
     ],
     "language": "python",
     "metadata": {},
     "outputs": []
    },
    {
     "cell_type": "markdown",
     "metadata": {},
     "source": [
      "##Step 7: Adding your personal knowledge##\n",
      "<p> Network connections are great and we'll do measurements on them later, but you have a bunch of personal information that can make analysis much richer. There are a couple commands to help you do that. <b>Please Note:</b> These loops periodically save your entries so if there is an error in the loop or something times out, your efforts won't be lost.</p>\n",
      "\n",
      "<br>\n",
      "<p> You have a few options for how you might categorize your friends: </p>\n",
      "\n",
      "\n",
      "<p><font size=3>Option 1: Code by where you know people from</font></p>\n",
      "<p>You've added social contexts already and now you can code people by them. The command <i>code_for_place_met( )</i> does this. Chances are you'll want to collapse a few of these categories into one, but give it a try first. If you choose to trim the social context list after experimenting, rerun <i>code_for_place_met( )</i> with the argument <i>overwrite=True</i>.</p>\n"
     ]
    },
    {
     "cell_type": "code",
     "collapsed": false,
     "input": [
      "graph.code_for_place_met()\n",
      "# graph.code_for_place_met(overwrite=True)"
     ],
     "language": "python",
     "metadata": {},
     "outputs": []
    },
    {
     "cell_type": "markdown",
     "metadata": {},
     "source": [
      "<p><font size=3>Option 2: Code for strong ties</font></p>\n",
      "<p> With <i>define_strong_ties( )</i> you answer whether or not individual relationships constitute a strong social tie for you. What exactly that means is up to you, but it is an interesting exercise to say the least. Just try to be consistent in your interpretation of what strong means. This command returns a dictionary of categories which you might use later to color nodes.</p>"
     ]
    },
    {
     "cell_type": "code",
     "collapsed": false,
     "input": [
      "#strong_categories = graph.define_strong_ties()\n",
      "strong_categories = graph.define_strong_ties(overwrite=True)"
     ],
     "language": "python",
     "metadata": {},
     "outputs": []
    },
    {
     "cell_type": "markdown",
     "metadata": {},
     "source": [
      "<p><font size=3>Option 3: Code for tie strength</font></p>\n",
      "<p> With <i>define_ties_strength( )</i> you can add more subtly to categorizing by strong or weak ties or ask other questions. Values can range between 0 and 1. You might interpret this as strong vs. weak ties, or physical distance or length of time since last seen. It's up to you!</p>\n",
      "<p> (This doesn't return a dictionary of categories because there are too many possibilities)</p>"
     ]
    },
    {
     "cell_type": "code",
     "collapsed": false,
     "input": [
      "graph.define_tie_strength()"
     ],
     "language": "python",
     "metadata": {},
     "outputs": []
    },
    {
     "cell_type": "markdown",
     "metadata": {},
     "source": [
      "<p><font size=3>Option 4: Adding your own attribute</font></p>\n",
      "<p> With <i>add_and_code_new_attribute( )</i> you can define your own attribute (e.g religious affiliation, ethnicity, political affiliation, race, etc) and define the possible categories. You then code each friend for this new attribute. This command returns a dictionary of categories to be passed to the <i>define_colors( )</i> command which we turn to next. If you are using the example\n",
      "data, the dictionaries for the three attributes added are in the comments below.</p>"
     ]
    },
    {
     "cell_type": "code",
     "collapsed": false,
     "input": [
      "new_attribute_categories_1 = graph.add_and_code_new_attribute()\n",
      "\n",
      "#new_attribute_categories_2 = graph.add_and_code_new_attribute()\n",
      "#new_attribute_categories_3 = graph.add_and_code_new_attribute()\n",
      "\n",
      "#majority_minority_categories = {1:\"majority\", 2: \"minority\"} \n",
      "#political_leaning = {1:\"left\", 2:\"center\", 3:\"right\"}\n",
      "#region = {1:\"Midwest\", 2:\"U.S.\", 3: \"Other\"}"
     ],
     "language": "python",
     "metadata": {},
     "outputs": []
    },
    {
     "cell_type": "markdown",
     "metadata": {},
     "source": [
      "<p><font size=4>Step 8: Coloring nodes by attributes</font><p>\n",
      "<p></p>\n",
      "<p> Now you've added your intimate knowledge to the database and we want to show this visually. To do this, we need to define which attribute to look at and colors should be associated with possible values when we graph it. The command <i>define_colors( )</i> requires the arguments <i>attribute</i> and <i>dictionary</i>. If you run the command <i>graph.friend_db.index.values</i> you can see what attributes you have entered. "
     ]
    },
    {
     "cell_type": "code",
     "collapsed": false,
     "input": [
      "list(graph.friend_db.index.values)"
     ],
     "language": "python",
     "metadata": {},
     "outputs": []
    },
    {
     "cell_type": "markdown",
     "metadata": {},
     "source": [
      "<p>With the exception of name, any one of those attributes can be used as the attribute parameter.</p>\n",
      "<p>The dictionary arguments were created earlier, or in the class of gender can be added right now.</p>\n",
      "\n",
      "+ *graph.define_colors(\"known_from\", graph.contexts_list)* will help you color by the social context you know people from.\n",
      "+ *graph.define_colors(\"gender\", graph.create_gender_dictionary)* colors by gender.\n",
      "+ *graph.define_colors(\"strong tie\", tie_categories)* colors by tie strength.\n",
      "+ And finally, *graph.define_colors(\"your_attribute's_name\", new_categories)* colors by the attribute you added.\n",
      "\n",
      "Each of these options set the *graph.defined_colors* attribute to the appropriate values and *alt_draw_network( )* command will fetch them when you call it. "
     ]
    },
    {
     "cell_type": "code",
     "collapsed": false,
     "input": [
      "graph.define_colors(\"gender\", graph.create_gender_dictionary())\n",
      "#graph.define_colors(\"strong tie\", {1:\"strong\", 0:\"weak\"})\n",
      "#graph.define_colors(\"known from\", graph.contexts_list)\n",
      "#graph.define_colors(\"your attribute name\", new_attribute_categories)"
     ],
     "language": "python",
     "metadata": {},
     "outputs": []
    },
    {
     "cell_type": "code",
     "collapsed": false,
     "input": [
      "graph.draw_network()"
     ],
     "language": "python",
     "metadata": {},
     "outputs": []
    },
    {
     "cell_type": "markdown",
     "metadata": {},
     "source": [
      "<p></p>\n",
      "<p><font size=4>Step 9: Measurements</font></p>\n",
      "We can also use some types of metrics on your own network.\n",
      "\n",
      "- You can look at the clustering coefficients for nodes using the *clustering( )* command. The command takes a *group* argument that returns clustering coefficients for just the specified group from your social contexts list (the number, not the name). Without the group argument it returns the whole network.\n",
      "\n",
      "- You can test the Strong Triadic closure hypothesis for the whole network using the *test_Strong_Triadic_Closure()* command\n",
      "\n",
      "- You can test the Strong Triadic closure hypothesis for individual group using the *test_Strong_Triadic_Closure_within_group(group_number)* command"
     ]
    },
    {
     "cell_type": "code",
     "collapsed": false,
     "input": [
      "graph.clustering() #whole network\n",
      "#graph.get_average_clustering(graph.clustering())\n",
      "#graph.clustering(1) #just group one"
     ],
     "language": "python",
     "metadata": {},
     "outputs": []
    },
    {
     "cell_type": "code",
     "collapsed": false,
     "input": [
      "graph.test_Strong_Triadic_Closure()"
     ],
     "language": "python",
     "metadata": {},
     "outputs": []
    },
    {
     "cell_type": "code",
     "collapsed": false,
     "input": [
      "graph.test_Strong_Triadic_Closure_within_group(1)"
     ],
     "language": "python",
     "metadata": {},
     "outputs": []
    },
    {
     "cell_type": "markdown",
     "metadata": {},
     "source": [
      "## Other tools ##\n",
      "There are a few other tools that can help you with your analysis.\n",
      "\n",
      "- *view_friend_info(\"name\")* lets you view the information about a friend\n",
      "- *view_mutual_friends(\"name\")* lets you see who is mutual friends with a particular friend\n",
      "- *change_friend_values(\"name\")* lets you modify attributes of a friend. **Be carefull with this. Incorrect values can break things!**\n",
      "- *view_people_from(group_number)* lets you see who is in a social contexts group\n",
      "\n",
      "- *id_to_name(id_number)* converts an id number to a name\n",
      "- *ids_to_names()* returns a dictionary with an linked ids and names\n",
      "- *attribute_breakdown( )* lets you see raw counts for a particular attribute\n",
      "- *attribute_by_attribute( )* lets you see how those in one group breakdown by another attribute\n",
      "- *count_components( )* returns the number of distinct components in the network without your node\n",
      "- *associativity_by_attribute( )* finds the frequency with which neighbor have the same value for an attribute\n",
      "- *clustering_by_attribute( )* finds the degree to which neighbors with the same value for an attribute are clustered\n"
     ]
    },
    {
     "cell_type": "markdown",
     "metadata": {},
     "source": [
      "<p> Some simple methods to explore the data:</p>"
     ]
    },
    {
     "cell_type": "code",
     "collapsed": false,
     "input": [
      "graph.view_friend_info(\"#a_name\")"
     ],
     "language": "python",
     "metadata": {},
     "outputs": []
    },
    {
     "cell_type": "code",
     "collapsed": false,
     "input": [
      "graph.view_mutual_friends(\"#a_name\")"
     ],
     "language": "python",
     "metadata": {},
     "outputs": []
    },
    {
     "cell_type": "code",
     "collapsed": false,
     "input": [
      "graph.change_friend_values(\"nan\")"
     ],
     "language": "python",
     "metadata": {},
     "outputs": []
    },
    {
     "cell_type": "code",
     "collapsed": false,
     "input": [
      "graph.view_people_from(1)"
     ],
     "language": "python",
     "metadata": {},
     "outputs": []
    },
    {
     "cell_type": "code",
     "collapsed": false,
     "input": [
      "graph.id_to_name()"
     ],
     "language": "python",
     "metadata": {},
     "outputs": []
    },
    {
     "cell_type": "code",
     "collapsed": false,
     "input": [
      "graph.ids_to_names()"
     ],
     "language": "python",
     "metadata": {},
     "outputs": []
    },
    {
     "cell_type": "code",
     "collapsed": false,
     "input": [
      "graph.name_to_id(\"#a_name\")"
     ],
     "language": "python",
     "metadata": {},
     "outputs": []
    },
    {
     "cell_type": "markdown",
     "metadata": {},
     "source": [
      "<p>Some basic breakdowns of the data:</p>"
     ]
    },
    {
     "cell_type": "code",
     "collapsed": false,
     "input": [
      "graph.attribute_breakdown(\"gender\")\n",
      "#graph.attribute_breakdown(\"race\")"
     ],
     "language": "python",
     "metadata": {},
     "outputs": []
    },
    {
     "cell_type": "code",
     "collapsed": false,
     "input": [
      "graph.attribute_by_attribute(\"known from\", 2, \"race\") #(attribute one, group of attribute one, attribute two)"
     ],
     "language": "python",
     "metadata": {},
     "outputs": []
    },
    {
     "cell_type": "code",
     "collapsed": false,
     "input": [
      "graph.attribute_by_attribute(\"gender\", \"female\", \"tie strength\")"
     ],
     "language": "python",
     "metadata": {},
     "outputs": []
    },
    {
     "cell_type": "markdown",
     "metadata": {},
     "source": [
      "<br>\n",
      "<p>Some network concepts:</p>"
     ]
    },
    {
     "cell_type": "code",
     "collapsed": false,
     "input": [
      "#graph.count_components() #the number of components in the graph\n",
      "graph.count_components(withme=False )"
     ],
     "language": "python",
     "metadata": {},
     "outputs": []
    },
    {
     "cell_type": "code",
     "collapsed": false,
     "input": [
      "#graph.diameter()\n",
      "graph.diameter(withme=False)"
     ],
     "language": "python",
     "metadata": {},
     "outputs": []
    },
    {
     "cell_type": "code",
     "collapsed": false,
     "input": [
      "graph.degree(graph.name_to_id(\"#a_name\"))"
     ],
     "language": "python",
     "metadata": {},
     "outputs": []
    },
    {
     "cell_type": "code",
     "collapsed": false,
     "input": [
      "graph.degree_centrality()\n",
      "#graph.degree_centrality(withme=False)"
     ],
     "language": "python",
     "metadata": {},
     "outputs": []
    },
    {
     "cell_type": "code",
     "collapsed": false,
     "input": [
      "graph.closeness_centrality()\n",
      "#graph.closeness_centrality(withme=False)"
     ],
     "language": "python",
     "metadata": {},
     "outputs": []
    },
    {
     "cell_type": "code",
     "collapsed": false,
     "input": [
      "graph.betweenness_centrality()\n",
      "#graph.betweenness_centrality(withme=False)#"
     ],
     "language": "python",
     "metadata": {},
     "outputs": []
    },
    {
     "cell_type": "code",
     "collapsed": false,
     "input": [
      "graph.eigenvector_centrality(iterations=500,withme=False) # may fail with too few iterations"
     ],
     "language": "python",
     "metadata": {},
     "outputs": []
    },
    {
     "cell_type": "code",
     "collapsed": false,
     "input": [
      "d = graph.associativity_by_attribute(\"gender\") #any attribute you have coded for will work here"
     ],
     "language": "python",
     "metadata": {},
     "outputs": []
    },
    {
     "cell_type": "code",
     "collapsed": false,
     "input": [
      "d = graph.clustering_by_attribute(\"gender\") # any attribute you have coded for will work here"
     ],
     "language": "python",
     "metadata": {},
     "outputs": []
    },
    {
     "cell_type": "code",
     "collapsed": false,
     "input": [
      "d = graph.clustering_by_attribute_summary(\"gender\") #summary means average"
     ],
     "language": "python",
     "metadata": {},
     "outputs": []
    },
    {
     "cell_type": "code",
     "collapsed": false,
     "input": [
      "graph.degree(graph.name_to_id(\"#a_name\"))"
     ],
     "language": "python",
     "metadata": {},
     "outputs": []
    },
    {
     "cell_type": "markdown",
     "metadata": {},
     "source": [
      "#Example data#\n",
      "\n",
      "Included in the *Social Dynamics package* folder is an example network. You can load it using the *graph.load_data(\"example\")* command as you would for any saved network.\n",
      "\n",
      "It has three additional attributes coded in addition to the suggested ones. Those are political leanings (1: left, 2: center, 3: right), minority vs. majority status (1: majority, 2: minority) and geographic region from (1: Midwest, 2: U.S, 3: other).\n",
      "\n",
      "The names of the three attributes are:\n",
      "\n",
      "- \"race\"\n",
      "- \"political leaning\"\n",
      "- \"region\""
     ]
    },
    {
     "cell_type": "code",
     "collapsed": false,
     "input": [
      "import Facebook_Lab as fb\n",
      "graph = fb.FBgraph(\"5\")\n",
      "graph.load_data(\"5\")"
     ],
     "language": "python",
     "metadata": {},
     "outputs": []
    },
    {
     "cell_type": "code",
     "collapsed": false,
     "input": [
      "graph.define_colors(\"gender\",graph.create_gender_dictionary())"
     ],
     "language": "python",
     "metadata": {},
     "outputs": []
    },
    {
     "cell_type": "code",
     "collapsed": false,
     "input": [
      "graph.draw_network(withme=False)"
     ],
     "language": "python",
     "metadata": {},
     "outputs": []
    },
    {
     "cell_type": "code",
     "collapsed": false,
     "input": [
      "graph.my_dct"
     ],
     "language": "python",
     "metadata": {},
     "outputs": []
    },
    {
     "cell_type": "code",
     "collapsed": false,
     "input": [],
     "language": "python",
     "metadata": {},
     "outputs": []
    }
   ],
   "metadata": {}
  }
 ]
}