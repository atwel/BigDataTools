{
 "metadata": {
  "name": ""
 },
 "nbformat": 3,
 "nbformat_minor": 0,
 "worksheets": [
  {
   "cells": [
    {
     "cell_type": "markdown",
     "metadata": {},
     "source": [
      "<br>\n",
      "<p><b><font size=6>Lab 2 - Scraping the Web</font></b></p>\n",
      "<br>\n",
      "The point of this particular lab is to introduce you to scraping data from the web, meaning the systematic collection of publicly available information. Because of most people's familiarity with Craigslist (and the relative easy with which one can scrape it) this lab currently focuses on just that site. Getting setup for this lab is easier than the Facebook lab, but the variety of questions you could ask is exponential more.<br><br>Let's get started by importing the right software, a module called just cl. We'll also import a package for helping display the data."
     ]
    },
    {
     "cell_type": "code",
     "collapsed": false,
     "input": [
      "import cl\n",
      "from IPython.display import HTML"
     ],
     "language": "python",
     "metadata": {},
     "outputs": [],
     "prompt_number": 3
    },
    {
     "cell_type": "markdown",
     "metadata": {},
     "source": [
      "## Getting Posts ##\n",
      "This module creates a searchable index (a type of database) of the posts you have retrieved. We'll get to the searching component in a moment but first we need to retrieve some posts! The command *cl.get_posts( )* takes two arguments, a Craigslist web address and a count of posts to retrieve. Here is an example."
     ]
    },
    {
     "cell_type": "code",
     "collapsed": false,
     "input": [
      "posts = cl.get_posts(\"http://annarbor.craigslist.org/bik/\", count=75)"
     ],
     "language": "python",
     "metadata": {},
     "outputs": [
      {
       "output_type": "stream",
       "stream": "stdout",
       "text": [
        "All 75 URLs successfully retrieved\n"
       ]
      }
     ],
     "prompt_number": 4
    },
    {
     "cell_type": "markdown",
     "metadata": {},
     "source": [
      "This retrieved the urls of the 75 newest posts on the bicycles subpage of the Ann Arbor craigslist. The variable *posts* is just a list of those urls, not the data from the posts themselves. There are a couple of things to say about this command.\n",
      "\n",
      "+ a count of 75 is to small for analysis, but I've rate-limited the software (slowed down how quickly it gets posts) so you won't want to get all 25000 car posting from Detroit\n",
      "+ the URL must be in quotations\n",
      "+ the URL can't be the homepage, it must be a page with actual postings.\n",
      "+ the URL *can* be for a page resulting from a search you performed on Craigslist itself.\n",
      "\n",
      "This last feature can help you speed your research up if you already have a topic. Just perform the search on Craigslist and copy the long URL into the *get_posts( )* command. An example for postings with the word Toyota and price up to $5k is below."
     ]
    },
    {
     "cell_type": "code",
     "collapsed": false,
     "input": [
      "posts = cl.get_posts(\"http://annarbor.craigslist.org/search/sss?query=toyota&zoomToPosting=&minAsk=&maxAsk=5000\", count=75)"
     ],
     "language": "python",
     "metadata": {},
     "outputs": []
    },
    {
     "cell_type": "markdown",
     "metadata": {},
     "source": [
      "#Indexing# \n",
      "Ok, we have some URLs and now we want to get the actual data. We can do this by passing the list of posts we got above to the *cl.index_posts( )* command. This command goes to the internet, gets the page, pulls it apart and stores the information in the searchable index. Once you've indexed a post, its information will remain a part of the database unless we want to clear it (no saving necessary).\n",
      "It takes on average about 3 seconds to process each post so you should expect this to run 1 minute for every 20 posts you are asking it to get. The second argument is to help you separate different groups of posts. Say you wanted to compare missed connections in Los Angeles to the ones in Chicago; You'll want to put both sets of posts into the index but also identify them as being fundamentally different. To do this, you give each group different batch numbers so that you can search just one group or the other. If this doesn't make sense, see the details of searching by batchs in the **Search** section below.\n",
      "\n",
      "**Please note:** You have to keep track of your batch labels and meanings so write them down. "
     ]
    },
    {
     "cell_type": "code",
     "collapsed": false,
     "input": [
      "cl.index_posts(posts,batch=1)"
     ],
     "language": "python",
     "metadata": {},
     "outputs": [
      {
       "output_type": "stream",
       "stream": "stdout",
       "text": [
        "http://annarbor.craigslist.org/bik/4795674286.html\n",
        "Giant 20 Inch Bike Great Shape"
       ]
      },
      {
       "output_type": "stream",
       "stream": "stdout",
       "text": [
        "\n",
        "Error retrieving page\n",
        "Error parsing a posting: Original"
       ]
      },
      {
       "output_type": "stream",
       "stream": "stdout",
       "text": [
        "\n",
        "http://annarbor.craigslist.org/bik/4782242974.html\n",
        "Next Boys Bike"
       ]
      },
      {
       "output_type": "stream",
       "stream": "stdout",
       "text": [
        "\n",
        "Error retrieving page\n",
        "Error parsing a posting: Original\n",
        "http://annarbor.craigslist.org/bik/4755395687.html\n",
        "Kids bikes for sale"
       ]
      },
      {
       "output_type": "stream",
       "stream": "stdout",
       "text": [
        "\n",
        "Error retrieving page\n",
        "Error parsing a posting: Original\n",
        "http://annarbor.craigslist.org/bik/4799641181.html\n",
        "10\" & 12\" spiderman, dora, princess bikes "
       ]
      },
      {
       "output_type": "stream",
       "stream": "stdout",
       "text": [
        "\n",
        "Error retrieving page\n",
        "Error parsing a posting: Original\n",
        "http://annarbor.craigslist.org/bik/4764205018.html\n",
        "2013 Salsa Mukluk 2 Fat Bike"
       ]
      },
      {
       "output_type": "stream",
       "stream": "stdout",
       "text": [
        "\n",
        "Error retrieving page\n",
        "Error parsing a posting: Original\n",
        "http://annarbor.craigslist.org/bik/4800805406.html\n",
        "Giant Rainier Mountain Bike"
       ]
      },
      {
       "output_type": "stream",
       "stream": "stdout",
       "text": [
        "\n",
        "Error retrieving page\n",
        "Error parsing a posting: Original\n",
        "http://annarbor.craigslist.org/bik/4759857911.html\n",
        "Old ross bike"
       ]
      },
      {
       "output_type": "stream",
       "stream": "stdout",
       "text": [
        "\n",
        "Error retrieving page"
       ]
      },
      {
       "output_type": "stream",
       "stream": "stdout",
       "text": [
        "\n",
        "Error parsing a posting: Original\n",
        "http://annarbor.craigslist.org/bik/4792872662.html\n",
        "** CHRISTMAS SHOPPING **"
       ]
      },
      {
       "output_type": "stream",
       "stream": "stdout",
       "text": [
        "\n",
        "Error retrieving page\n",
        "Error parsing a posting: Original\n",
        "http://annarbor.craigslist.org/bik/4782241419.html\n",
        "Specialized Hot Rock"
       ]
      },
      {
       "output_type": "stream",
       "stream": "stdout",
       "text": [
        "\n",
        "Error retrieving page\n",
        "Error parsing a posting: Original\n",
        "http://annarbor.craigslist.org/bik/4797616476.html\n",
        "Giant Boulder SE mountain bike,21\"alloy frame,shimano,nice bike! $125"
       ]
      },
      {
       "output_type": "stream",
       "stream": "stdout",
       "text": [
        "\n",
        "Error retrieving page\n",
        "Error parsing a posting: Original\n",
        "http://annarbor.craigslist.org/bik/4780720151.html\n",
        "min bike"
       ]
      },
      {
       "output_type": "stream",
       "stream": "stdout",
       "text": [
        "\n",
        "Error retrieving page\n",
        "Error parsing a posting: Original\n",
        "http://annarbor.craigslist.org/bik/4798448823.html\n",
        "Made in USA Raleigh Scout 24"
       ]
      },
      {
       "output_type": "stream",
       "stream": "stdout",
       "text": [
        "\n",
        "Error retrieving page\n",
        "Error parsing a posting: Original\n",
        "http://annarbor.craigslist.org/bik/4766352556.html\n",
        "Vintage Schwinn 3-spd. 1963 Women's 26\""
       ]
      },
      {
       "output_type": "stream",
       "stream": "stdout",
       "text": [
        "\n",
        "Error retrieving page\n",
        "Error parsing a posting: Original\n",
        "http://annarbor.craigslist.org/bik/4783180668.html\n",
        "** CHRISTMAS Shopping **"
       ]
      },
      {
       "output_type": "stream",
       "stream": "stdout",
       "text": [
        "\n",
        "Error retrieving page"
       ]
      },
      {
       "output_type": "stream",
       "stream": "stdout",
       "text": [
        "\n",
        "Error parsing a posting: Original\n",
        "http://annarbor.craigslist.org/bik/4772689758.html\n",
        "Vintage Schwinn 3-speed Women's Bike"
       ]
      },
      {
       "output_type": "stream",
       "stream": "stdout",
       "text": [
        "\n",
        "Error retrieving page\n",
        "Error parsing a posting: Original\n",
        "http://annarbor.craigslist.org/bik/4779679555.html\n",
        "Kent new hybrid aluminum bike"
       ]
      },
      {
       "output_type": "stream",
       "stream": "stdout",
       "text": [
        "\n",
        "Error retrieving page\n",
        "Error parsing a posting: Original\n",
        "http://annarbor.craigslist.org/bik/4798143951.html\n",
        "Trek Adult Bicycle--used twice"
       ]
      },
      {
       "output_type": "stream",
       "stream": "stdout",
       "text": [
        "\n",
        "Error retrieving page\n",
        "Error parsing a posting: Original\n",
        "http://annarbor.craigslist.org/bik/4798402285.html\n",
        "Specialized Rockhopper"
       ]
      },
      {
       "output_type": "stream",
       "stream": "stdout",
       "text": [
        "\n",
        "Error retrieving page\n",
        "Error parsing a posting: Original\n",
        "http://annarbor.craigslist.org/bik/4800305024.html\n",
        "Brand New Comfort Cruiser "
       ]
      },
      {
       "output_type": "stream",
       "stream": "stdout",
       "text": [
        "\n",
        "Error retrieving page"
       ]
      },
      {
       "output_type": "stream",
       "stream": "stdout",
       "text": [
        "\n",
        "Error parsing a posting: Original\n",
        "http://annarbor.craigslist.org/bik/4799985600.html\n",
        "Mountain Bike Tire"
       ]
      },
      {
       "output_type": "stream",
       "stream": "stdout",
       "text": [
        "\n",
        "Error retrieving page"
       ]
      },
      {
       "output_type": "stream",
       "stream": "stdout",
       "text": [
        "\n",
        "Error parsing a posting: Original\n",
        "http://annarbor.craigslist.org/bik/4797820759.html\n",
        "bmx hutch,redline,parts"
       ]
      },
      {
       "output_type": "stream",
       "stream": "stdout",
       "text": [
        "\n",
        "Error retrieving page"
       ]
      },
      {
       "output_type": "stream",
       "stream": "stdout",
       "text": [
        "\n",
        "Error parsing a posting: Original\n",
        "http://annarbor.craigslist.org/bik/4798005484.html\n",
        "Put this under the tree! 1946 Lincoln 20 inch bike"
       ]
      },
      {
       "output_type": "stream",
       "stream": "stdout",
       "text": [
        "\n",
        "Error retrieving page\n",
        "Error parsing a posting: Original\n",
        "http://annarbor.craigslist.org/bik/4782001809.html\n",
        "1976 Schwinn Sprint Men's Ten Speed Road Bike Vintage"
       ]
      },
      {
       "output_type": "stream",
       "stream": "stdout",
       "text": [
        "\n",
        "Error retrieving page\n",
        "Error parsing a posting: Original\n",
        "http://annarbor.craigslist.org/bik/4798879988.html\n",
        "2014 Surly Moonlander Fat Bike - 18\""
       ]
      },
      {
       "output_type": "stream",
       "stream": "stdout",
       "text": [
        "\n",
        "Error retrieving page\n",
        "Error parsing a posting: Original\n",
        "http://annarbor.craigslist.org/bik/4795571081.html\n",
        "Trek MT220 24\" wheels Mountain Bike"
       ]
      },
      {
       "output_type": "stream",
       "stream": "stdout",
       "text": [
        "\n",
        "Error retrieving page\n",
        "Error parsing a posting: Original\n",
        "http://annarbor.craigslist.org/bik/4780746285.html\n",
        "24 inch sears spider"
       ]
      },
      {
       "output_type": "stream",
       "stream": "stdout",
       "text": [
        "\n",
        "Error retrieving page\n",
        "Error parsing a posting: Original\n",
        "http://annarbor.craigslist.org/bik/4761704778.html\n",
        "Rallye = Ranger 24\" 10 speed"
       ]
      },
      {
       "output_type": "stream",
       "stream": "stdout",
       "text": [
        "\n",
        "Error retrieving page\n",
        "Error parsing a posting: Original\n",
        "http://annarbor.craigslist.org/bik/4786927959.html\n",
        "Women's 50cm Trek Lexa S"
       ]
      },
      {
       "output_type": "stream",
       "stream": "stdout",
       "text": [
        "\n",
        "Error retrieving page\n",
        "Error parsing a posting: Original\n",
        "http://annarbor.craigslist.org/bik/4756812164.html\n",
        "REDUCED Fox racing Mountain Bike for TRADE OR CASH"
       ]
      },
      {
       "output_type": "stream",
       "stream": "stdout",
       "text": [
        "\n",
        "Error retrieving page\n",
        "Error parsing a posting: Original\n",
        "http://annarbor.craigslist.org/bik/4800651539.html\n",
        "Mongoose Mountain Bike for Sale"
       ]
      },
      {
       "output_type": "stream",
       "stream": "stdout",
       "text": [
        "\n",
        "Error retrieving page"
       ]
      },
      {
       "output_type": "stream",
       "stream": "stdout",
       "text": [
        "\n",
        "Error parsing a posting: Original\n",
        "http://annarbor.craigslist.org/bik/4773688940.html\n",
        "Schwinn boy's bike, good condition"
       ]
      },
      {
       "output_type": "stream",
       "stream": "stdout",
       "text": [
        "\n",
        "Error retrieving page\n",
        "Error parsing a posting: Original\n",
        "http://annarbor.craigslist.org/bik/4786046448.html\n",
        "Sea Star Huffy Bike"
       ]
      },
      {
       "output_type": "stream",
       "stream": "stdout",
       "text": [
        "\n",
        "Error retrieving page\n",
        "Error parsing a posting: Original\n",
        "http://annarbor.craigslist.org/bik/4792467702.html\n",
        "WESTERN FLYER BICYCLE 1968"
       ]
      },
      {
       "output_type": "stream",
       "stream": "stdout",
       "text": [
        "\n",
        "Error retrieving page\n",
        "Error parsing a posting: Original\n",
        "http://annarbor.craigslist.org/bik/4786055711.html\n",
        "Sea Star Huffy Bike"
       ]
      },
      {
       "output_type": "stream",
       "stream": "stdout",
       "text": [
        "\n",
        "Error retrieving page\n",
        "Error parsing a posting: Original\n",
        "http://annarbor.craigslist.org/bik/4782792582.html\n",
        "Mesa schwinn ; vintage quality made"
       ]
      },
      {
       "output_type": "stream",
       "stream": "stdout",
       "text": [
        "\n",
        "Error retrieving page\n",
        "Error parsing a posting: Original\n",
        "http://annarbor.craigslist.org/bik/4789948066.html\n",
        "1987 dyno pro compe "
       ]
      },
      {
       "output_type": "stream",
       "stream": "stdout",
       "text": [
        "\n",
        "Error retrieving page\n",
        "Error parsing a posting: Original\n",
        "http://annarbor.craigslist.org/bik/4776306516.html\n",
        "Schwinn Hitchhiker Bike Trailer/Tag-a-long "
       ]
      },
      {
       "output_type": "stream",
       "stream": "stdout",
       "text": [
        "\n",
        "Error retrieving page\n",
        "Error parsing a posting: Original\n",
        "http://annarbor.craigslist.org/bik/4781323787.html\n",
        "20\" FAN WHEELS 72 spoke"
       ]
      },
      {
       "output_type": "stream",
       "stream": "stdout",
       "text": [
        "\n",
        "Error retrieving page\n",
        "Error parsing a posting: Original\n",
        "http://annarbor.craigslist.org/bik/4779054408.html\n",
        "Volkscycle mark v"
       ]
      },
      {
       "output_type": "stream",
       "stream": "stdout",
       "text": [
        "\n",
        "Error retrieving page\n",
        "Error parsing a posting: Original\n",
        "http://annarbor.craigslist.org/bik/4798883056.html\n",
        "Schwinn Varsity Deluxe 27\" 10 speed "
       ]
      },
      {
       "output_type": "stream",
       "stream": "stdout",
       "text": [
        "\n",
        "Error retrieving page\n",
        "Error parsing a posting: Original\n",
        "http://annarbor.craigslist.org/bik/4799913766.html\n",
        "26 inch Avalon Comfort Series"
       ]
      },
      {
       "output_type": "stream",
       "stream": "stdout",
       "text": [
        "\n",
        "Error retrieving page\n",
        "Error parsing a posting: Original\n",
        "http://annarbor.craigslist.org/bik/4788365923.html\n",
        "Schwinn Men's World Tourist 5 speed road bike commuter"
       ]
      },
      {
       "output_type": "stream",
       "stream": "stdout",
       "text": [
        "\n",
        "Error retrieving page\n",
        "Error parsing a posting: Original\n",
        "http://annarbor.craigslist.org/bik/4800852703.html\n",
        "Novara Carbon Fork Road Bike w/Double Wireless System"
       ]
      },
      {
       "output_type": "stream",
       "stream": "stdout",
       "text": [
        "\n",
        "Error retrieving page\n",
        "Error parsing a posting: Original\n",
        "http://annarbor.craigslist.org/bik/4799916503.html\n",
        "26 inch Motiv Smoothie Comfort "
       ]
      },
      {
       "output_type": "stream",
       "stream": "stdout",
       "text": [
        "\n",
        "Error retrieving page\n",
        "Error parsing a posting: Original\n",
        "http://annarbor.craigslist.org/bik/4790935896.html\n",
        "Vintage 1970's 24\" Allpro Bicycle Original "
       ]
      },
      {
       "output_type": "stream",
       "stream": "stdout",
       "text": [
        "\n",
        "Error retrieving page\n",
        "Error parsing a posting: Original\n",
        "http://annarbor.craigslist.org/bik/4799689889.html\n",
        "2011 Trek Speed Concept 9 Series"
       ]
      },
      {
       "output_type": "stream",
       "stream": "stdout",
       "text": [
        "\n",
        "Error retrieving page\n",
        "Error parsing a posting: Original\n",
        "http://annarbor.craigslist.org/bik/4782004168.html\n",
        "1976 Schwinn Varsity Beautiful 100% original Mens 10 speed road bike"
       ]
      },
      {
       "output_type": "stream",
       "stream": "stdout",
       "text": [
        "\n",
        "Error retrieving page\n",
        "Error parsing a posting: Original\n",
        "http://annarbor.craigslist.org/bik/4794546882.html\n",
        " Teocali Mongoose 1x9, fox float,xtr"
       ]
      },
      {
       "output_type": "stream",
       "stream": "stdout",
       "text": [
        "\n",
        "Error retrieving page\n",
        "Error parsing a posting: Original\n",
        "http://annarbor.craigslist.org/bik/4769455903.html\n",
        "Special Needs Trike 20\" Three Speed"
       ]
      },
      {
       "output_type": "stream",
       "stream": "stdout",
       "text": [
        "\n",
        "Error retrieving page\n",
        "Error parsing a posting: Original\n",
        "http://annarbor.craigslist.org/bik/4782947763.html\n",
        "Schwinn Airdyne exercise bike - excellent condition"
       ]
      },
      {
       "output_type": "stream",
       "stream": "stdout",
       "text": [
        "\n",
        "Error retrieving page"
       ]
      },
      {
       "output_type": "stream",
       "stream": "stdout",
       "text": [
        "\n",
        "Error parsing a posting: Original\n",
        "http://annarbor.craigslist.org/bik/4777592173.html\n",
        "Trade: Classic Steel CX bike for Fat bike (Northwest A2)"
       ]
      },
      {
       "output_type": "stream",
       "stream": "stdout",
       "text": [
        "\n",
        "Error retrieving page\n",
        "Error parsing a posting: Original\n",
        "http://annarbor.craigslist.org/bik/4800531566.html\n",
        "CycleOPs fluid trainer and accessories"
       ]
      },
      {
       "output_type": "stream",
       "stream": "stdout",
       "text": [
        "\n",
        "Error retrieving page\n",
        "Error parsing a posting: Original\n",
        "http://annarbor.craigslist.org/bik/4799425106.html\n",
        "F/S NOS SCHWINN REAR LIGHTWEIGHT RACK"
       ]
      },
      {
       "output_type": "stream",
       "stream": "stdout",
       "text": [
        "\n",
        "Error retrieving page\n",
        "Error parsing a posting: Original\n",
        "http://annarbor.craigslist.org/bik/4798923386.html\n",
        "TWO MONTHS OLD: 26\" Women's Mountain Bike"
       ]
      },
      {
       "output_type": "stream",
       "stream": "stdout",
       "text": [
        "\n",
        "Error retrieving page\n",
        "Error parsing a posting: Original\n",
        "http://annarbor.craigslist.org/bik/4761914988.html\n",
        "Mongoose Bmx freestyle aluminum 20\" boys"
       ]
      },
      {
       "output_type": "stream",
       "stream": "stdout",
       "text": [
        "\n",
        "Error retrieving page\n",
        "Error parsing a posting: Original\n",
        "http://annarbor.craigslist.org/bik/4770276968.html\n",
        "Schwinn Manta Ray"
       ]
      },
      {
       "output_type": "stream",
       "stream": "stdout",
       "text": [
        "\n",
        "Error retrieving page\n",
        "Error parsing a posting: Original\n",
        "http://annarbor.craigslist.org/bik/4800903838.html\n",
        "1959 AMF Bicycle"
       ]
      },
      {
       "output_type": "stream",
       "stream": "stdout",
       "text": [
        "\n",
        "Error retrieving page\n",
        "Error parsing a posting: Original\n",
        "http://annarbor.craigslist.org/bik/4794984703.html\n",
        "Gary Fisher Advanced Mountain Bike"
       ]
      },
      {
       "output_type": "stream",
       "stream": "stdout",
       "text": [
        "\n",
        "Error retrieving page\n",
        "Error parsing a posting: Original\n",
        "http://annarbor.craigslist.org/bik/4800304716.html\n",
        "Boys Specialized 16\" yellow bike"
       ]
      },
      {
       "output_type": "stream",
       "stream": "stdout",
       "text": [
        "\n",
        "Error retrieving page\n",
        "Error parsing a posting: Original\n",
        "http://annarbor.craigslist.org/bik/4792837387.html\n",
        "Bicycle - Schwinn Crusier"
       ]
      },
      {
       "output_type": "stream",
       "stream": "stdout",
       "text": [
        "\n",
        "Error retrieving page\n",
        "Error parsing a posting: Original\n",
        "http://annarbor.craigslist.org/bik/4783344761.html\n",
        "Women's roadmaster bike"
       ]
      },
      {
       "output_type": "stream",
       "stream": "stdout",
       "text": [
        "\n",
        "Error retrieving page\n",
        "Error parsing a posting: Original\n",
        "http://annarbor.craigslist.org/bik/4800304884.html\n",
        "Girls 16\" Specialized bike Great Condition!"
       ]
      },
      {
       "output_type": "stream",
       "stream": "stdout",
       "text": [
        "\n",
        "Error retrieving page\n",
        "Error parsing a posting: Original\n",
        "http://annarbor.craigslist.org/bik/4798263100.html\n",
        "Bell Bike Rack"
       ]
      },
      {
       "output_type": "stream",
       "stream": "stdout",
       "text": [
        "\n",
        "Error retrieving page\n",
        "Error parsing a posting: Original\n",
        "http://annarbor.craigslist.org/bik/4799901521.html\n",
        "Kids Trek Jet 16 Bike"
       ]
      },
      {
       "output_type": "stream",
       "stream": "stdout",
       "text": [
        "\n",
        "Error retrieving page\n",
        "Error parsing a posting: Original\n",
        "http://annarbor.craigslist.org/bik/4796786947.html\n",
        "specialized bike"
       ]
      },
      {
       "output_type": "stream",
       "stream": "stdout",
       "text": [
        "\n",
        "Error retrieving page\n",
        "Error parsing a posting: Original\n",
        "http://annarbor.craigslist.org/bik/4799192458.html\n",
        "warp giant ds1 mountain bike"
       ]
      },
      {
       "output_type": "stream",
       "stream": "stdout",
       "text": [
        "\n",
        "Error retrieving page\n",
        "Error parsing a posting: Original\n",
        "http://annarbor.craigslist.org/bik/4799390684.html\n",
        "Two small bikes"
       ]
      },
      {
       "output_type": "stream",
       "stream": "stdout",
       "text": [
        "\n",
        "Error retrieving page"
       ]
      },
      {
       "output_type": "stream",
       "stream": "stdout",
       "text": [
        "\n",
        "Error parsing a posting: Original\n",
        "http://annarbor.craigslist.org/bik/4780226197.html\n",
        "Road bike vilano "
       ]
      },
      {
       "output_type": "stream",
       "stream": "stdout",
       "text": [
        "\n",
        "Error retrieving page\n",
        "Error parsing a posting: Original\n",
        "http://annarbor.craigslist.org/bik/4796530850.html\n",
        "Vilano road bike"
       ]
      },
      {
       "output_type": "stream",
       "stream": "stdout",
       "text": [
        "\n",
        "Error retrieving page\n",
        "Error parsing a posting: Original\n",
        "http://annarbor.craigslist.org/bik/4795638553.html\n",
        "1979 Pontiac Firebird hood from North Carolina original paint"
       ]
      },
      {
       "output_type": "stream",
       "stream": "stdout",
       "text": [
        "\n",
        "Error retrieving page\n",
        "Error parsing a posting: Original\n",
        "http://annarbor.craigslist.org/bik/4799904586.html\n",
        "26 inch Huffy 314 Road Bike"
       ]
      },
      {
       "output_type": "stream",
       "stream": "stdout",
       "text": [
        "\n",
        "Error retrieving page\n",
        "Error parsing a posting: Original\n",
        "http://annarbor.craigslist.org/bik/4758891813.html\n",
        "Specialized Rock Hopper Comp"
       ]
      },
      {
       "output_type": "stream",
       "stream": "stdout",
       "text": [
        "\n",
        "Error retrieving page\n",
        "Error parsing a posting: Original\n",
        "http://annarbor.craigslist.org/bik/4800020148.html\n",
        "Specialized Rockhopper Mountain Bike"
       ]
      },
      {
       "output_type": "stream",
       "stream": "stdout",
       "text": [
        "\n",
        "Error retrieving page\n",
        "Error parsing a posting: Original\n",
        "http://annarbor.craigslist.org/bik/4798365409.html\n",
        "A Bike for Christmas"
       ]
      },
      {
       "output_type": "stream",
       "stream": "stdout",
       "text": [
        "\n",
        "Error retrieving page\n",
        "Error parsing a posting: Original\n",
        "http://annarbor.craigslist.org/bik/4779670706.html\n",
        "Trek alpha aluminum 3700 mountain bike"
       ]
      },
      {
       "output_type": "stream",
       "stream": "stdout",
       "text": [
        "\n",
        "Error retrieving page\n",
        "Error parsing a posting: Original\n"
       ]
      }
     ],
     "prompt_number": 5
    },
    {
     "cell_type": "markdown",
     "metadata": {},
     "source": [
      "That's it! You now have a searchable index with a bunch of CL posts broken down into different fields with information like the title, post date, number of pics, etc. You can keep adding to it overtime. If it encounters the same post, it records changes but doesn't create a new entry. "
     ]
    },
    {
     "cell_type": "markdown",
     "metadata": {},
     "source": [
      "# Searching #\n",
      "\n",
      "Now that the posts are in the searchable index, you can start exploring it. The basic command is just *search( )*. This command returns three data object we'll use later to actually look at the results, but first we need to explore the ways you can search.\n",
      "<p> The first is for exact matches of words in the body of the post. Here is an example for bikes:</p>"
     ]
    },
    {
     "cell_type": "code",
     "collapsed": false,
     "input": [
      "results, data, display = cl.search(\"steelframe\")"
     ],
     "language": "python",
     "metadata": {},
     "outputs": []
    },
    {
     "cell_type": "markdown",
     "metadata": {},
     "source": [
      "While straightforward, that particular search is propably too restrictive because it will only return *exact* matches. It is better to use the wildcard operator \\* as in the two lines below. The wildcard \\* signals to the search engine that we don't care about what comes in the spot before \"frame\" or after \"steel\". This functionality is important for finding plural forms of words (e.g. to find *frame* or *frames*, search for *frame*\\* particularly when the plural form is something other than adding an *s*, such as *glass* to *glasses* (search with *glass*\\*) or *woman* and *women* (search for *wom*\\**n*)"
     ]
    },
    {
     "cell_type": "code",
     "collapsed": false,
     "input": [
      "results, data, display = cl.search(\"*frame\")\n",
      "# or\n",
      "results, data, display = cl.search(\"steel*\")\n",
      "# or\n",
      "results, data, display = cl.search(\"wom*n\")"
     ],
     "language": "python",
     "metadata": {},
     "outputs": []
    },
    {
     "cell_type": "markdown",
     "metadata": {},
     "source": [
      "<br><br><br>\n",
      "The three searches above look only in the body of the post, called *content* in the index itself.  That makes them equivalent to this command *cl.search(\"content:'steelframe'\")*. This same basic syntax works for a variety of fields in the index. For example, if you want see what posts have prices between \\$0 and \\$100, you can use the search below."
     ]
    },
    {
     "cell_type": "code",
     "collapsed": false,
     "input": [
      "results, data, display = cl.search(\"price:[0 to 100]\")"
     ],
     "language": "python",
     "metadata": {},
     "outputs": []
    },
    {
     "cell_type": "markdown",
     "metadata": {},
     "source": [
      "You can also search multiple fields at once like in the commands below."
     ]
    },
    {
     "cell_type": "code",
     "collapsed": false,
     "input": [
      "results, data, display = cl.search(\"price:[0 to 100] loc:'Ann Arbor'\")"
     ],
     "language": "python",
     "metadata": {},
     "outputs": []
    },
    {
     "cell_type": "code",
     "collapsed": false,
     "input": [
      "results, data, display = cl.search(\"posted:'today'\")"
     ],
     "language": "python",
     "metadata": {},
     "outputs": []
    },
    {
     "cell_type": "code",
     "collapsed": false,
     "input": [
      "results, data, display = cl.search(\"posted:'yesterday' loc:'Ann Arbor' price:[0 to 100]\")"
     ],
     "language": "python",
     "metadata": {},
     "outputs": []
    },
    {
     "cell_type": "markdown",
     "metadata": {},
     "source": [
      "You should note that the text search terms are in single quotation marks. That is so the search parser doesn't get confused about spaces. For example, if we ran it without the quotation marks around Ann Arbor, it would search for locations with 'Ann' and matches for 'Arbor' in the body of the post. "
     ]
    },
    {
     "cell_type": "markdown",
     "metadata": {},
     "source": [
      "You can search the following fields with the type of input specified:\n",
      "\n",
      "+ content (text or number)\n",
      "+ title (text or number)\n",
      "+ price (number)\n",
      "+ posted (text and number)\n",
      "+ pics (number)\n",
      "+ loc (text)\n",
      "+ address (text or number)\n",
      "+ coord (text)\n",
      "\n",
      "<br>\n",
      "**Note about \"posted\" \\#1**<br>\n",
      "The index supports a variety of formats for dates that make a lot of intuitive sense. For those who really want the full details, check [this page.](http://pythonhosted.org/Whoosh/dates.html) Otherwise you can experiment with it. It accepts both data and times in a variety of formats. Some valid examples are below."
     ]
    },
    {
     "cell_type": "code",
     "collapsed": false,
     "input": [
      "results, data, display = cl.search(\"posted:'Nov 2 12:30 to Nov 5 18:00'\")"
     ],
     "language": "python",
     "metadata": {},
     "outputs": [
      {
       "output_type": "stream",
       "stream": "stdout",
       "text": [
        "20 search results\n",
        "------------------------------\n",
        "- $838 / 2br - 1000ft\u00b2 - Make Your Next Move to Runaway Bay! 2BR 2BA Apt. (West Lansing)\n",
        "\n",
        "- $760 / 2br - 961ft\u00b2 - 2BR/2BA Apartment Home and a Simply Better Lifestyle! (Lansing, MI)\n",
        "\n",
        "- $700 / 2br - 1000ft\u00b2 - Apartment 2BR Shiawassee and Butler (918 W Shiawassee)\n",
        "\n",
        "- $690 / 1br - 699ft\u00b2 - $300.00 off your total move in costs!!Spacious 1BR/1BA Apartment Home! (7530 Waters Edge)\n",
        "\n",
        "- $475 / 1br - 600ft\u00b2 - Apt.  1BR    Shiawassee near Butler. (918 W Shiawassee)\n",
        "\n",
        "- $475 / 1br - 600ft\u00b2 - Apt.  1BR    Shiawassee near Butler. (918 W Shiawassee)\n",
        "\n",
        "- $559 / 1br - 576ft\u00b2 - 1 Bedroom Apartment Available November 15th (Lansing)\n",
        "\n",
        "DIRT DEVIL UPHOLSTERY/CARPET SCRUBBER - $40 (Saline)\n",
        "\n",
        "Misc. Brand NEW windows for sale - $1 (Chelsea)\n",
        "\n",
        "1997 Eddie Bauer Explorer - $2200 (Sumpter twp)\n",
        "\n",
        "Chevy Avalanche - $14500 (Ypsilanti)\n",
        "\n",
        "RARE HARLEY DAVIDSON WWII BRASS LIGHTER - $100 (Saline)\n",
        "\n",
        "Come Party With Village Green of Ann Arbor At Our Nov. 9th Open House! (Ann Arbor)\n",
        "\n",
        "2 Bed, 1 Bath Barrier Free! Private Entry/Patio! Washer/Dryer Inside! (Ann Arbor)\n",
        "\n",
        "- $1405 / 2br - 1075ft\u00b2 - Fully Upgraded 2 Bed, 2 Bath Loft! Wood Burning Fireplace Included! (Ann Arbor)\n",
        "\n",
        "- $1075 / 2br - 1050ft\u00b2 - 2BR LOFT AT VILLAGE GREEN $1075  - ANN ARBOR (ann arbor)\n",
        "\n",
        "Village Green of Ann Arbor Nov. 9th Open House! (Ann Arbor)\n",
        "\n",
        "Sub looking for Dom for ltr  - 25\n",
        "\n",
        "BBW looking for the right guy (Hoover and around)\n",
        "\n",
        "ISO A SWM ;) - 27 (Anywhere)\n",
        "\n"
       ]
      }
     ],
     "prompt_number": 3
    },
    {
     "cell_type": "code",
     "collapsed": false,
     "input": [
      "results, data, display = cl.search(\"posted:'Wednesday 06:00 to 23:00'\")"
     ],
     "language": "python",
     "metadata": {},
     "outputs": []
    },
    {
     "cell_type": "code",
     "collapsed": false,
     "input": [
      "results, data, display = cl.search(\"posted:'Nov 2 06:00 to Nov 2 14:00'\")"
     ],
     "language": "python",
     "metadata": {},
     "outputs": []
    },
    {
     "cell_type": "markdown",
     "metadata": {},
     "source": [
      "<br>\n",
      "**Note about \"posted\" \\#2**\n",
      "If you want to search for postings based on the time of day they were posted, you need to use the *time_slice=* argument. This takes all the usual arguments for the search, but limits the results to just the ones within the time of day you've specified. Here is an example for all PM postings."
     ]
    },
    {
     "cell_type": "code",
     "collapsed": false,
     "input": [
      "results, data, display = cl.search(\"*frame\", time_slice=[\"12:01\",\"23:59\"])"
     ],
     "language": "python",
     "metadata": {},
     "outputs": []
    },
    {
     "cell_type": "markdown",
     "metadata": {},
     "source": [
      "Note that the times are in quotation marks. It won't work without them. Also, because the first time is the start and the second the end, if you want to search from 10pm to 3am, you'd do something like the example below."
     ]
    },
    {
     "cell_type": "code",
     "collapsed": false,
     "input": [
      "results, data, display = cl.search(\"party time!\", time_slice=[\"22:00\", \"3:00\"])\n",
      "                                   "
     ],
     "language": "python",
     "metadata": {},
     "outputs": []
    },
    {
     "cell_type": "markdown",
     "metadata": {},
     "source": [
      "This works with all the other possible search options, including date ranges found using \"posted:\". "
     ]
    },
    {
     "cell_type": "markdown",
     "metadata": {},
     "source": [
      "<br>\n",
      "**Note about number of results**<br>\n",
      "The search command automatically limits the number of results to the first 50 it finds. To override that to get more results, use the *limit* argument like below:"
     ]
    },
    {
     "cell_type": "code",
     "collapsed": false,
     "input": [
      "results, data, display = cl.search(\"posted:'today' loc:'Ann Arbor' price:[0 to 100]\", limit=100)"
     ],
     "language": "python",
     "metadata": {},
     "outputs": [
      {
       "ename": "NameError",
       "evalue": "name 'cl' is not defined",
       "output_type": "pyerr",
       "traceback": [
        "\u001b[0;31m---------------------------------------------------------------------------\u001b[0m\n\u001b[0;31mNameError\u001b[0m                                 Traceback (most recent call last)",
        "\u001b[0;32m<ipython-input-1-1aff2bb20963>\u001b[0m in \u001b[0;36m<module>\u001b[0;34m()\u001b[0m\n\u001b[0;32m----> 1\u001b[0;31m \u001b[0mresults\u001b[0m\u001b[0;34m,\u001b[0m \u001b[0mdata\u001b[0m\u001b[0;34m,\u001b[0m \u001b[0mdisplay\u001b[0m \u001b[0;34m=\u001b[0m \u001b[0mcl\u001b[0m\u001b[0;34m.\u001b[0m\u001b[0msearch\u001b[0m\u001b[0;34m(\u001b[0m\u001b[0;34m\"posted:'today' loc:'Ann Arbor' price:[0 to 100]\"\u001b[0m\u001b[0;34m,\u001b[0m \u001b[0mlimit\u001b[0m\u001b[0;34m=\u001b[0m\u001b[0;36m100\u001b[0m\u001b[0;34m)\u001b[0m\u001b[0;34m\u001b[0m\u001b[0m\n\u001b[0m",
        "\u001b[0;31mNameError\u001b[0m: name 'cl' is not defined"
       ]
      }
     ],
     "prompt_number": 1
    },
    {
     "cell_type": "markdown",
     "metadata": {},
     "source": [
      "<br>\n",
      "**Note about multiple searches**<br>\n",
      "You are probably going to want to save results from different searches. To do that, you need to specify new names on the left hand side of the command so that the new search doesn't overwrite the previous search. For example, if you want to separate the AM and PM posts, you could come up with names like below."
     ]
    },
    {
     "cell_type": "code",
     "collapsed": false,
     "input": [
      "results_AM, data_AM, display_AM = cl.search(\"day\", time_slice=[\"0:00\",\"12:00\"])\n",
      "# and"
     ],
     "language": "python",
     "metadata": {},
     "outputs": []
    },
    {
     "cell_type": "code",
     "collapsed": false,
     "input": [
      "results_PM, data_PM, display_PM = cl.search(\"night\", time_slice=[\"12:01\", \"23:59\"])"
     ],
     "language": "python",
     "metadata": {},
     "outputs": []
    },
    {
     "cell_type": "markdown",
     "metadata": {},
     "source": [
      "The names can be whatever you'd like, the key thing is that they are different. You'll see why this is important in **Viewing Group Statistics** section below."
     ]
    },
    {
     "cell_type": "markdown",
     "metadata": {},
     "source": [
      "## Viewing Results ##\n",
      "\n",
      "When you run a search, you can see the titles of the posts that the query found but it is actually spitting back much more information. We can look at those using the data object *results*, *data*, and *display*.<br>\n",
      "While it appears last, let's start with *display* first. It contains all of the raw information from the posting returned by the query. To make it easier to look at, it is packaged up as an HTML file that we can look at by running the command below."
     ]
    },
    {
     "cell_type": "code",
     "collapsed": false,
     "input": [
      "HTML(display)"
     ],
     "language": "python",
     "metadata": {},
     "outputs": []
    },
    {
     "cell_type": "markdown",
     "metadata": {},
     "source": [
      "A couple of things to notice about this:\n",
      "\n",
      "1) That is a lot of information in our poor little Notebook. If you'd rather not look at it here, don't run the command and just go find the file named 'search_results.html' in your CL folder. You can even just keep that file open in your browser and refresh it after new searchs. Doing so will make your notebook easier to use and the HTML also renders better there.\n",
      "\n",
      "2) There is big table at the bottom of each post. These contain the textual analysis of the post using the LIWC dictionary. It contains basic statistics like word counts (WC) and the number of pronouns but also the frequency of words related to positive emotions (posemo) and tentativeness (tentat). The full names and categories for the terms are available on the LIWC site [here](http://www.liwc.net/descriptiontable1.php)\n",
      "\n",
      "3) The tables aren't the same for each post. That's because some posted scored zero on the LIWC count and they've been omitted in order to condense the information. \n",
      "\n",
      "4) These tables are really good for exploring patterns worth looking into more, but chances are you aren't going to want to find averages for these tables by hand. Thats what the *results* object does for you.<br>\n",
      "\n",
      "##Viewing Group Statistics##\n",
      "The *results* object contains useful information about that group of search results, namely the average, the standard deviation, the maximum value and the minimum value for each of the LIWC categories. You can display it as HTML using the command below or via the file *search_averages.html*"
     ]
    },
    {
     "cell_type": "code",
     "collapsed": false,
     "input": [
      "HTML(results)"
     ],
     "language": "python",
     "metadata": {},
     "outputs": [
      {
       "html": [
        "<!DOCTYPE html><html><title>LIWC statistics for term(s): posted:'Nov 2 12:30 to Nov 5 18:00'</title><body><br><table><tr><th>Category&nbsp;</th><th>Average</th><th>Std Dev</th><th>Max&nbsp</th><th>Min&nbsp</th><th>Category&nbsp;</th><th>Average</th><th>Std Dev</th><th>Max&nbsp</th><th>Min&nbsp</th><th>Category&nbsp;</th><th>Average</th><th>Std Dev</th><th>Max&nbsp</th><th>Min&nbsp</th></tr><tr><td>SemiC</td><td>0.0002</td><td>0.0011</td><td>0.0049</td><td>0.0</td><td>relig</td><td>0.0033</td><td>0.0115</td><td>0.0513</td><td>0.0</td><td>money</td><td>0.0293</td><td>0.0243</td><td>0.1</td><td>0.0</td></tr><tr><td>WC</td><td>130.9</td><td>123.3187</td><td>427.0</td><td>10.0</td><td>pronoun</td><td>0.0535</td><td>0.0529</td><td>0.1576</td><td>0.0</td><td>funct</td><td>0.3285</td><td>0.1735</td><td>0.6207</td><td>0.0</td></tr><tr><td>feel</td><td>0.0086</td><td>0.0136</td><td>0.0588</td><td>0.0</td><td>certain</td><td>0.0104</td><td>0.0145</td><td>0.0588</td><td>0.0</td><td>insight</td><td>0.0148</td><td>0.0134</td><td>0.0566</td><td>0.0</td></tr><tr><td>Sixltr</td><td>0.25</td><td>0.1041</td><td>0.6</td><td>0.1049</td><td>number</td><td>0.0116</td><td>0.0324</td><td>0.15</td><td>0.0</td><td>sad</td><td>0.0011</td><td>0.0037</td><td>0.0159</td><td>0.0</td></tr><tr><td>past</td><td>0.008</td><td>0.0191</td><td>0.0769</td><td>0.0</td><td>anger</td><td>0.0024</td><td>0.0058</td><td>0.0172</td><td>0.0</td><td>see</td><td>0.0212</td><td>0.0176</td><td>0.0517</td><td>0.0</td></tr><tr><td>assent</td><td>0.001</td><td>0.0044</td><td>0.02</td><td>0.0</td><td>OtherP</td><td>0.1666</td><td>0.1376</td><td>0.5</td><td>0.0099</td><td>Dash</td><td>0.106</td><td>0.0785</td><td>0.3</td><td>0.0099</td></tr><tr><td>affect</td><td>0.0405</td><td>0.0341</td><td>0.1282</td><td>0.0</td><td>negate</td><td>0.0093</td><td>0.0136</td><td>0.0377</td><td>0.0</td><td>home</td><td>0.0809</td><td>0.0633</td><td>0.2</td><td>0.0</td></tr><tr><td>conj</td><td>0.0483</td><td>0.0349</td><td>0.14</td><td>0.0</td><td>Exclam</td><td>0.0253</td><td>0.0395</td><td>0.1765</td><td>0.0</td><td>anx</td><td>0.0002</td><td>0.0011</td><td>0.0049</td><td>0.0</td></tr><tr><td>preps</td><td>0.0949</td><td>0.0468</td><td>0.2241</td><td>0.0</td><td>ppron</td><td>0.0368</td><td>0.0371</td><td>0.1133</td><td>0.0</td><td>Numerals</td><td>0.0</td><td>0.0</td><td>0.0</td><td>0.0</td></tr><tr><td>sexual</td><td>0.0016</td><td>0.0042</td><td>0.0185</td><td>0.0</td><td>inhib</td><td>0.0076</td><td>0.0092</td><td>0.0256</td><td>0.0</td><td>bio</td><td>0.0213</td><td>0.0171</td><td>0.0625</td><td>0.0</td></tr><tr><td>family</td><td>0.0004</td><td>0.0012</td><td>0.0041</td><td>0.0</td><td>adverb</td><td>0.0233</td><td>0.02</td><td>0.0667</td><td>0.0</td><td>space</td><td>0.0734</td><td>0.0576</td><td>0.2353</td><td>0.0</td></tr><tr><td>filler</td><td>0.05</td><td>0.2179</td><td>1.0</td><td>0.0</td><td>ipron</td><td>0.0167</td><td>0.0239</td><td>0.0943</td><td>0.0</td><td>QMark</td><td>0.0005</td><td>0.0013</td><td>0.0055</td><td>0.0</td></tr><tr><td>WPS</td><td>13.3816</td><td>6.1399</td><td>27.8889</td><td>4.8889</td><td>percept</td><td>0.0307</td><td>0.0209</td><td>0.0588</td><td>0.0</td><td>swear</td><td>0.0</td><td>0.0</td><td>0.0</td><td>0.0</td></tr><tr><td>quant</td><td>0.0227</td><td>0.0156</td><td>0.0588</td><td>0.0</td><td>discrep</td><td>0.0111</td><td>0.0189</td><td>0.08</td><td>0.0</td><td>relativ</td><td>0.132</td><td>0.0605</td><td>0.2941</td><td>0.0</td></tr><tr><td>health</td><td>0.0079</td><td>0.0085</td><td>0.0244</td><td>0.0</td><td>you</td><td>0.0112</td><td>0.0155</td><td>0.0588</td><td>0.0</td><td>cause</td><td>0.004</td><td>0.0061</td><td>0.0256</td><td>0.0</td></tr><tr><td>friend</td><td>0.004</td><td>0.0054</td><td>0.0172</td><td>0.0</td><td>body</td><td>0.003</td><td>0.0062</td><td>0.0256</td><td>0.0</td><td>cogmech</td><td>0.1196</td><td>0.0728</td><td>0.32</td><td>0.0</td></tr><tr><td>we</td><td>0.0089</td><td>0.0146</td><td>0.0437</td><td>0.0</td><td>humans</td><td>0.0046</td><td>0.0103</td><td>0.0345</td><td>0.0</td><td>time</td><td>0.0385</td><td>0.0234</td><td>0.1</td><td>0.0</td></tr><tr><td>Apostro</td><td>0.0033</td><td>0.0054</td><td>0.0185</td><td>0.0</td><td>leisure</td><td>0.0375</td><td>0.0279</td><td>0.1</td><td>0.0</td><td>Dic</td><td>0.6796</td><td>0.159</td><td>0.9458</td><td>0.3</td></tr><tr><td>Quote</td><td>0.0009</td><td>0.0041</td><td>0.0189</td><td>0.0</td><td>verb</td><td>0.0672</td><td>0.0559</td><td>0.1698</td><td>0.0</td><td>hear</td><td>0.0011</td><td>0.0029</td><td>0.0109</td><td>0.0</td></tr><tr><td>they</td><td>0.0023</td><td>0.0071</td><td>0.0317</td><td>0.0</td><td>article</td><td>0.0344</td><td>0.0298</td><td>0.0843</td><td>0.0</td><td>excl</td><td>0.0189</td><td>0.021</td><td>0.066</td><td>0.0</td></tr><tr><td>Parenth</td><td>0.0243</td><td>0.0235</td><td>0.1</td><td>0.0</td><td>AllPct</td><td>0.4824</td><td>0.2539</td><td>0.9</td><td>0.1667</td><td>Colon</td><td>0.0022</td><td>0.0044</td><td>0.0124</td><td>0.0</td></tr><tr><td>present</td><td>0.0488</td><td>0.0398</td><td>0.1235</td><td>0.0</td><td>tentat</td><td>0.023</td><td>0.0296</td><td>0.1</td><td>0.0</td><td>death</td><td>0.0</td><td>0.0</td><td>0.0</td><td>0.0</td></tr><tr><td>negemo</td><td>0.0086</td><td>0.0126</td><td>0.0513</td><td>0.0</td><td>i</td><td>0.0144</td><td>0.0291</td><td>0.0936</td><td>0.0</td><td>posemo</td><td>0.0316</td><td>0.0259</td><td>0.0769</td><td>0.0</td></tr><tr><td>work</td><td>0.0181</td><td>0.0219</td><td>0.1026</td><td>0.0</td><td>Period</td><td>0.0683</td><td>0.0573</td><td>0.2045</td><td>0.0</td><td>ingest</td><td>0.0089</td><td>0.0114</td><td>0.0417</td><td>0.0</td></tr><tr><td>motion</td><td>0.0201</td><td>0.0137</td><td>0.0588</td><td>0.0</td><td>nonfl</td><td>0.0014</td><td>0.0039</td><td>0.0172</td><td>0.0</td><td>future</td><td>0.0047</td><td>0.0073</td><td>0.02</td><td>0.0</td></tr><tr><td>Comma</td><td>0.0847</td><td>0.0873</td><td>0.2927</td><td>0.0</td><td>achieve</td><td>0.0162</td><td>0.021</td><td>0.0769</td><td>0.0</td><td>social</td><td>0.0626</td><td>0.0426</td><td>0.1527</td><td>0.0</td></tr><tr><td>auxverb</td><td>0.0438</td><td>0.04</td><td>0.1226</td><td>0.0</td><td>incl</td><td>0.0506</td><td>0.0326</td><td>0.14</td><td>0.0</td><td>shehe</td><td>0.0</td><td>0.0</td><td>0.0</td><td>0.0</td></tr></table>"
       ],
       "metadata": {},
       "output_type": "pyout",
       "prompt_number": 4,
       "text": [
        "<IPython.core.display.HTML at 0x10a1ef3d0>"
       ]
      }
     ],
     "prompt_number": 4
    },
    {
     "cell_type": "markdown",
     "metadata": {},
     "source": [
      "Finally, the *data* object contains the raw numbers of the results. These can be used to compare different search groups and create smaller tables of more relevant data. To do that, you need to specify two different searches and give the outputs different names as is shown in the next two lines"
     ]
    },
    {
     "cell_type": "code",
     "collapsed": false,
     "input": [
      "results_1, data_1, display_1 = cl.search(\"posted:'Oct 23 06:00 to Oct 23 23:00'\")"
     ],
     "language": "python",
     "metadata": {},
     "outputs": []
    },
    {
     "cell_type": "code",
     "collapsed": false,
     "input": [
      "results_2, data_2, display_2 = cl.search(\"posted:'Oct 24 06:00 to Oct 24 23:00'\")"
     ],
     "language": "python",
     "metadata": {},
     "outputs": []
    },
    {
     "cell_type": "markdown",
     "metadata": {},
     "source": [
      "You then put the two data objects, *data_1* and *data_2* into the *LIWC_differences( )* command to get a table back. You can then display it by passing it to the *HTML( )* command. The two lines below do it for the searches above"
     ]
    },
    {
     "cell_type": "code",
     "collapsed": false,
     "input": [
      "diffs = cl.LIWC_differences(data_1, data_2)"
     ],
     "language": "python",
     "metadata": {},
     "outputs": []
    },
    {
     "cell_type": "code",
     "collapsed": false,
     "input": [
      "HTML(diffs)"
     ],
     "language": "python",
     "metadata": {},
     "outputs": []
    },
    {
     "cell_type": "markdown",
     "metadata": {},
     "source": [
      "Finally, if you'd like to trim this big table to just the relevant information, run the *LIWC_differences_subset( )* command with a list of the terms you want. This is a handy thing to take a screenshot of and put into a paper. An example is below."
     ]
    },
    {
     "cell_type": "code",
     "collapsed": false,
     "input": [
      "subset = cl.LIWC_differences_subset(data_1, data_2, ['WC', 'posemo', 'negemo', 'swear', 'anger', 'affect'])"
     ],
     "language": "python",
     "metadata": {},
     "outputs": []
    },
    {
     "cell_type": "code",
     "collapsed": false,
     "input": [
      "HTML(subset)"
     ],
     "language": "python",
     "metadata": {},
     "outputs": []
    },
    {
     "cell_type": "code",
     "collapsed": false,
     "input": [],
     "language": "python",
     "metadata": {},
     "outputs": []
    }
   ],
   "metadata": {}
  }
 ]
}